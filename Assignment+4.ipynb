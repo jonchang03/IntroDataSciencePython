{
 "cells": [
  {
   "cell_type": "markdown",
   "metadata": {},
   "source": [
    "---\n",
    "\n",
    "_You are currently looking at **version 1.0** of this notebook. To download notebooks and datafiles, as well as get help on Jupyter notebooks in the Coursera platform, visit the [Jupyter Notebook FAQ](https://www.coursera.org/learn/python-data-analysis/resources/0dhYG) course resource._\n",
    "\n",
    "---"
   ]
  },
  {
   "cell_type": "code",
   "execution_count": 2,
   "metadata": {
    "collapsed": true
   },
   "outputs": [],
   "source": [
    "import pandas as pd\n",
    "import numpy as np\n",
    "from scipy.stats import ttest_ind"
   ]
  },
  {
   "cell_type": "markdown",
   "metadata": {},
   "source": [
    "# Assignment 4 - Hypothesis Testing\n",
    "This assignment requires more individual learning than previous assignments - you are encouraged to check out the [pandas documentation](http://pandas.pydata.org/pandas-docs/stable/) to find functions or methods you might not have used yet, or ask questions on [Stack Overflow](http://stackoverflow.com/) and tag them as pandas and python related. And of course, the discussion forums are open for interaction with your peers and the course staff.\n",
    "\n",
    "Definitions:\n",
    "* A _quarter_ is a specific three month period, Q1 is January through March, Q2 is April through June, Q3 is July through September, Q4 is October through December.\n",
    "* A _recession_ is defined as starting with two consecutive quarters of GDP decline, and ending with two consecutive quarters of GDP growth.\n",
    "* A _recession bottom_ is the quarter within a recession which had the lowest GDP.\n",
    "* A _university town_ is a city which has a high percentage of university students compared to the total population of the city.\n",
    "\n",
    "**Hypothesis**: University towns have their mean housing prices less effected by recessions. Run a t-test to compare the ratio of the mean price of houses in university towns the quarter before the recession starts compared to the recession bottom. (`price_ratio=quarter_before_recession/recession_bottom`)\n",
    "\n",
    "The following data files are available for this assignment:\n",
    "* From the [Zillow research data site](http://www.zillow.com/research/data/) there is housing data for the United States. In particular the datafile for [all homes at a city level](http://files.zillowstatic.com/research/public/City/City_Zhvi_AllHomes.csv), ```City_Zhvi_AllHomes.csv```, has median home sale prices at a fine grained level.\n",
    "* From the Wikipedia page on college towns is a list of [university towns in the United States](https://en.wikipedia.org/wiki/List_of_college_towns#College_towns_in_the_United_States) which has been copy and pasted into the file ```university_towns.txt```.\n",
    "* From Bureau of Economic Analysis, US Department of Commerce, the [GDP over time](http://www.bea.gov/national/index.htm#gdp) of the United States in current dollars (use the chained value in 2009 dollars), in quarterly intervals, in the file ```gdplev.xls```. For this assignment, only look at GDP data from the first quarter of 2000 onward.\n",
    "\n",
    "Each function in this assignment below is worth 10%, with the exception of ```run_ttest()```, which is worth 50%."
   ]
  },
  {
   "cell_type": "code",
   "execution_count": 3,
   "metadata": {
    "collapsed": false
   },
   "outputs": [],
   "source": [
    "# Use this dictionary to map state names to two letter acronyms\n",
    "states = {'OH': 'Ohio', 'KY': 'Kentucky', 'AS': 'American Samoa', 'NV': 'Nevada', 'WY': 'Wyoming', 'NA': 'National', 'AL': 'Alabama', 'MD': 'Maryland', 'AK': 'Alaska', 'UT': 'Utah', 'OR': 'Oregon', 'MT': 'Montana', 'IL': 'Illinois', 'TN': 'Tennessee', 'DC': 'District of Columbia', 'VT': 'Vermont', 'ID': 'Idaho', 'AR': 'Arkansas', 'ME': 'Maine', 'WA': 'Washington', 'HI': 'Hawaii', 'WI': 'Wisconsin', 'MI': 'Michigan', 'IN': 'Indiana', 'NJ': 'New Jersey', 'AZ': 'Arizona', 'GU': 'Guam', 'MS': 'Mississippi', 'PR': 'Puerto Rico', 'NC': 'North Carolina', 'TX': 'Texas', 'SD': 'South Dakota', 'MP': 'Northern Mariana Islands', 'IA': 'Iowa', 'MO': 'Missouri', 'CT': 'Connecticut', 'WV': 'West Virginia', 'SC': 'South Carolina', 'LA': 'Louisiana', 'KS': 'Kansas', 'NY': 'New York', 'NE': 'Nebraska', 'OK': 'Oklahoma', 'FL': 'Florida', 'CA': 'California', 'CO': 'Colorado', 'PA': 'Pennsylvania', 'DE': 'Delaware', 'NM': 'New Mexico', 'RI': 'Rhode Island', 'MN': 'Minnesota', 'VI': 'Virgin Islands', 'NH': 'New Hampshire', 'MA': 'Massachusetts', 'GA': 'Georgia', 'ND': 'North Dakota', 'VA': 'Virginia'}"
   ]
  },
  {
   "cell_type": "code",
   "execution_count": 4,
   "metadata": {
    "collapsed": false
   },
   "outputs": [],
   "source": [
    "def get_list_of_university_towns():\n",
    "    '''Returns a DataFrame of towns and the states they are in from the \n",
    "    university_towns.txt list. The format of the DataFrame should be:\n",
    "    DataFrame( [ [\"Michigan\", \"Ann Arbor\"], [\"Michigan\", \"Yipsilanti\"] ], \n",
    "    columns=[\"State\", \"RegionName\"]  )\n",
    "    \n",
    "    The following cleaning needs to be done:\n",
    "\n",
    "    1. For \"State\", removing characters from \"[\" to the end.\n",
    "    2. For \"RegionName\", when applicable, removing every character from \" (\" to the end.\n",
    "    3. Depending on how you read the data, you may need to remove newline character '\\n'. '''\n",
    "    \n",
    "    # A university town is a city which has a high percentage of university students \n",
    "    # compared to the total population of the city.\n",
    "    college_towns = pd.read_table(\"university_towns.txt\", header=None)\n",
    "    # http://stackoverflow.com/questions/41457322/pandas-rearranging-a-data-frame/41458629#41458629\n",
    "    college_towns['State'] = college_towns[0].str.extract('(.*)\\[edit\\]', expand=False).ffill()\n",
    "    college_towns['RegionName'] = college_towns[0].str.replace(r'\\s+\\(.+$', '')\n",
    "    college_towns = college_towns[~college_towns[0].str.contains('\\[edit\\]')].reset_index(drop=True).drop(0, axis=1)\n",
    "    \n",
    "    return college_towns"
   ]
  },
  {
   "cell_type": "code",
   "execution_count": null,
   "metadata": {
    "collapsed": true
   },
   "outputs": [],
   "source": []
  },
  {
   "cell_type": "code",
   "execution_count": null,
   "metadata": {
    "collapsed": true
   },
   "outputs": [],
   "source": []
  },
  {
   "cell_type": "code",
   "execution_count": null,
   "metadata": {
    "collapsed": true
   },
   "outputs": [],
   "source": []
  },
  {
   "cell_type": "markdown",
   "metadata": {},
   "source": [
    "## Read In + Clean GDP Data"
   ]
  },
  {
   "cell_type": "code",
   "execution_count": 5,
   "metadata": {
    "collapsed": false
   },
   "outputs": [],
   "source": [
    "# Read in GDP over time data\n",
    "GDP = pd.read_excel(\"gdplev.xls\", skiprows={0,1,2,3,4,6,7})\n",
    "GDP.rename(columns={'Unnamed: 0': 'Year', 'Unnamed: 3': 'Quarter', 'Unnamed: 4': 'Year_Quarter', 'GDP in billions of current dollars.1': 'GDP_Billions'}, inplace=True)\n",
    "\n",
    "# use the chained value in 2009 dollars\n",
    "GDP.drop({'GDP in billions of current dollars', 'GDP in billions of chained 2009 dollars', 'Unnamed: 7', 'GDP in billions of chained 2009 dollars.1'},inplace=True,axis=1)\n",
    "\n",
    "# Split Column into Year and Quarter\n",
    "# http://stackoverflow.com/questions/14745022/pandas-dataframe-how-do-i-split-a-column-into-two\n",
    "GDP['Year'] = GDP['Year_Quarter'].str.split('q', 1).str[0].astype(int)\n",
    "GDP['Quarter'] = GDP['Year_Quarter'].str.split('q', 1).str[1].astype(int)\n",
    "# For this assignment, only look at GDP data from the first quarter of 2000 onward.\n",
    "GDP = GDP[GDP['Year'] >= 2000]"
   ]
  },
  {
   "cell_type": "code",
   "execution_count": 6,
   "metadata": {
    "collapsed": false
   },
   "outputs": [],
   "source": [
    "# # http://pandas.pydata.org/pandas-docs/stable/visualization.html\n",
    "# import matplotlib.pyplot as plt\n",
    "\n",
    "# GDP.plot(x='Year_Quarter', y='GDP_Billions')\n",
    "# plt.show()"
   ]
  },
  {
   "cell_type": "code",
   "execution_count": 7,
   "metadata": {
    "collapsed": false
   },
   "outputs": [],
   "source": [
    "# A recession is defined as starting with two consecutive quarters of GDP decline, \n",
    "# and ending with two consecutive quarters of GDP growth."
   ]
  },
  {
   "cell_type": "code",
   "execution_count": 12,
   "metadata": {
    "collapsed": false
   },
   "outputs": [],
   "source": [
    "# http://stackoverflow.com/questions/41361537/find-two-consecutive-quarters-of-gdp-decline-and-ending-with-two-consecutive-qu\n",
    "# given dataframe GDP, returns the start_index and end_index for recession, as well as the index for the lowest point (bottom)\n",
    "\n",
    "def get_recession(): \n",
    "    start_index = 0\n",
    "    end_index = 0\n",
    "    bottom = (0, float(\"inf\"))\n",
    "    recession = False # save current status of economy, assuming that we did not begin with a recession\n",
    "\n",
    "    # start from 2nd quarter, so comparison begins with index i-1\n",
    "    for i in range(1, len(GDP) - 1):\n",
    "        # print(GDP['Year_Quarter'].iloc[i], GDP['GDP_Billions'].iloc[i])\n",
    "        if not recession and (GDP['GDP_Billions'].iloc[i-1] > GDP['GDP_Billions'].iloc[i] > GDP['GDP_Billions'].iloc[i+1]):\n",
    "            recession = True\n",
    "            start_index = i-1\n",
    "        elif recession:\n",
    "            if (GDP['GDP_Billions'].iloc[i-1] < GDP['GDP_Billions'].iloc[i] < GDP['GDP_Billions'].iloc[i+1]):\n",
    "                recession = False\n",
    "                end_index = i+1 \n",
    "            # to find the bottom, find the lowest point within the recession\n",
    "            if GDP['GDP_Billions'].iloc[i] < bottom[1]:\n",
    "                bottom = (i, GDP['GDP_Billions'].iloc[i])\n",
    "            \n",
    "    return (start_index, end_index, bottom)"
   ]
  },
  {
   "cell_type": "code",
   "execution_count": null,
   "metadata": {
    "collapsed": true
   },
   "outputs": [],
   "source": []
  },
  {
   "cell_type": "code",
   "execution_count": null,
   "metadata": {
    "collapsed": true
   },
   "outputs": [],
   "source": []
  },
  {
   "cell_type": "code",
   "execution_count": null,
   "metadata": {
    "collapsed": true
   },
   "outputs": [],
   "source": []
  },
  {
   "cell_type": "markdown",
   "metadata": {},
   "source": [
    "## Use get_recession() function"
   ]
  },
  {
   "cell_type": "code",
   "execution_count": 13,
   "metadata": {
    "collapsed": false
   },
   "outputs": [],
   "source": [
    "def get_recession_start():\n",
    "    '''Returns the year and quarter of the recession start time as a \n",
    "    string value in a format such as 2005q3'''\n",
    "    start_index = get_recession()[0]\n",
    "    start = GDP['Year_Quarter'].iloc[start_index]\n",
    "    return start"
   ]
  },
  {
   "cell_type": "code",
   "execution_count": 14,
   "metadata": {
    "collapsed": false
   },
   "outputs": [],
   "source": [
    "def get_recession_end():\n",
    "    '''Returns the year and quarter of the recession end time as a \n",
    "    string value in a format such as 2005q3'''\n",
    "    end_index = get_recession()[1]\n",
    "    end = GDP['Year_Quarter'].iloc[end_index]\n",
    "    return end"
   ]
  },
  {
   "cell_type": "code",
   "execution_count": 10,
   "metadata": {
    "collapsed": true
   },
   "outputs": [],
   "source": [
    "def get_recession_bottom():\n",
    "    '''Returns the year and quarter of the recession bottom time as a \n",
    "    string value in a format such as 2005q3'''\n",
    "    bottom_index = get_recession()[2][0]\n",
    "    bottom = GDP['Year_Quarter'].iloc[bottom_index]\n",
    "    return bottom"
   ]
  },
  {
   "cell_type": "code",
   "execution_count": null,
   "metadata": {
    "collapsed": true
   },
   "outputs": [],
   "source": []
  },
  {
   "cell_type": "code",
   "execution_count": null,
   "metadata": {
    "collapsed": true
   },
   "outputs": [],
   "source": []
  },
  {
   "cell_type": "code",
   "execution_count": null,
   "metadata": {
    "collapsed": true
   },
   "outputs": [],
   "source": []
  },
  {
   "cell_type": "markdown",
   "metadata": {},
   "source": [
    "## Convert Housing Data to Quarters\n",
    "* http://stackoverflow.com/questions/40728309/pandas-goup-and-rename-dataframe-columns-names\n",
    "* http://stackoverflow.com/questions/40497199/how-to-convert-monthly-data-to-quarterly-in-pandas\n",
    "* https://www.coursera.org/learn/python-data-analysis/discussions/weeks/4/threads/CSgStATMEee9mg5CyCleJA\n",
    "* http://stackoverflow.com/questions/41661451/pandas-compute-the-half-yearly-average-of-monthly-collected-house-sales\n",
    "\n",
    "A _quarter_ is a specific three month period, Q1 is January through March, Q2 is April through June, Q3 is July through September, Q4 is October through December."
   ]
  },
  {
   "cell_type": "code",
   "execution_count": 11,
   "metadata": {
    "collapsed": false
   },
   "outputs": [],
   "source": [
    "# Read in homes data (at city level)\n",
    "homes = pd.read_csv(\"City_Zhvi_AllHomes.csv\")\n",
    "# map State abbreviations to full name\n",
    "homes['State'] = homes['State'].map(lambda x: states[x])\n",
    "# homes.head()"
   ]
  },
  {
   "cell_type": "code",
   "execution_count": 12,
   "metadata": {
    "collapsed": false
   },
   "outputs": [],
   "source": [
    "def convert_housing_data_to_quarters():\n",
    "    '''Converts the housing data to quarters and returns it as mean \n",
    "    values in a dataframe. This dataframe should be a dataframe with\n",
    "    columns for 2000q1 through 2016q3, and should have a multi-index\n",
    "    in the shape of [\"State\",\"RegionName\"].\n",
    "    \n",
    "    Note: Quarters are defined in the assignment description, they are\n",
    "    not arbitrary three month periods.\n",
    "    \n",
    "    The resulting dataframe should have 67 columns, and 10,730 rows.\n",
    "    '''\n",
    "    df = homes\n",
    "    # Step 1. separate columns we want to resample\n",
    "    # only want columns from 2000-1 to 2016-8\n",
    "    tdf = df.filter(regex=(\"20.*\"))\n",
    "    # Step 2. change the column names type to datetime\n",
    "    tdf.columns = pd.to_datetime(tdf.columns)\n",
    "    # Step 3. Perform the following on tdf: resample then take the mean on the column by setting \n",
    "    # resample's parameter axis to 1. This will generate a dataframe with the same number of rows as tdf \n",
    "    # and the number to columns will be the ceiling (len(tdf.columns))/3\n",
    "    mdf = tdf.resample('Q',axis=1).mean() \n",
    "    # Step 4. Change the column names back to string. This is a simple operation given that datatime types \n",
    "    # have the member attributes year and quarter.\n",
    "    mdf.columns = mdf.columns.map(lambda x: '{:}q{:}'.format(x.year, x.quarter))\n",
    "    # Step 5. Once you're at this stage you only need to add two columns to mdf, \n",
    "    # the column with state names changed according the states dictionary and the regionNames.\n",
    "    # Then, set the index to ['state','RegionName'].\n",
    "    mdf['RegionName'] = df['RegionName']\n",
    "    mdf['State'] = df['State']\n",
    "    mdf.set_index(['State', 'RegionName'], inplace=True)\n",
    "    \n",
    "    return mdf"
   ]
  },
  {
   "cell_type": "code",
   "execution_count": null,
   "metadata": {
    "collapsed": false
   },
   "outputs": [],
   "source": []
  },
  {
   "cell_type": "code",
   "execution_count": null,
   "metadata": {
    "collapsed": true
   },
   "outputs": [],
   "source": []
  },
  {
   "cell_type": "code",
   "execution_count": null,
   "metadata": {
    "collapsed": true
   },
   "outputs": [],
   "source": []
  },
  {
   "cell_type": "markdown",
   "metadata": {},
   "source": [
    "## Run ttest_ind\n",
    "* https://www.coursera.org/learn/python-data-analysis/discussions/weeks/4/threads/iCSsLhrvEee0thK6z3XwTA\n",
    "\n",
    "**Hypothesis**: University towns have their mean housing prices less effected by recessions. Run a t-test to compare the ratio of the mean price of houses in university towns the quarter before the recession starts compared to the recession bottom. (`price_ratio=quarter_before_recession/recession_bottom`)\n",
    "\n",
    "Once you have the two groups, to test the hypothesis is null (invalid), we run the ttest on the price ratio column of each group. Now the result of the ttest pvalue determines if the null hypothesis is true or not.\n",
    "\n",
    "The term \"null hypothesis\" is a general statement or default position that there is no relationship between two measured phenomena.\n",
    "\n",
    "If pvalue <0.01 we reject the null hypothesis and hence it's possible that there is a relationship between {housing prices being affected by recession} and {being located in a university town or not a university town}\n",
    "\n",
    "If pvalue >0.01 we cannot reject the null hypothesis and hence there is no relationship between {housing prices being affected by recession} and {being located in a university town or not a university town}"
   ]
  },
  {
   "cell_type": "code",
   "execution_count": 13,
   "metadata": {
    "collapsed": true
   },
   "outputs": [],
   "source": [
    "def get_quarter_before_recession_start():\n",
    "    start_index = get_recession()[0]\n",
    "    qrbr = GDP['Year_Quarter'].iloc[start_index-1]\n",
    "    return qrbr"
   ]
  },
  {
   "cell_type": "code",
   "execution_count": 14,
   "metadata": {
    "collapsed": false
   },
   "outputs": [],
   "source": [
    "def run_ttest():\n",
    "    '''First creates new data showing the decline or growth of housing prices\n",
    "    between the recession start and the recession bottom. Then runs a ttest\n",
    "    comparing the university town values to the non-university towns values, \n",
    "    return whether the alternative hypothesis (that the two groups are the same)\n",
    "    is true or not as well as the p-value of the confidence. \n",
    "    \n",
    "    Return the tuple (different, p, better) where different=True if the t-test is\n",
    "    True at a p<0.01 (we reject the null hypothesis), or different=False if \n",
    "    otherwise (we cannot reject the null hypothesis). The variable p should\n",
    "    be equal to the exact p value returned from scipy.stats.ttest_ind(). The\n",
    "    value for better should be either \"university town\" or \"non-university town\"\n",
    "    depending on which has a lower mean price ratio (which is equivilent to a\n",
    "    reduced market loss).'''\n",
    "    \n",
    "    # Step 1. Inputs to run_ttest()\n",
    "    hdf = convert_housing_data_to_quarters()\n",
    "    rec_start = get_recession_start()\n",
    "    rec_bottom = get_recession_bottom()\n",
    "    ul = get_list_of_university_towns()\n",
    "\n",
    "    # Step 2. Calculate Price Ratio\n",
    "    # price_ratio=quarter_before_recession/recession_bottom\n",
    "    qrbr = get_quarter_before_recession_start() # i.e if start='2001q1' then qrbr='2000q4'\n",
    "    hdf['PriceRatio'] = hdf[qrbr].div(hdf[rec_bottom])\n",
    "    \n",
    "    # Step 3. Separate the university towns from non_university towns in hdf\n",
    "    # To test the hypothesis (University towns have their mean housing prices less effected by recessions)\n",
    "    # http://stackoverflow.com/questions/38877766/converting-pandas-dataframe-into-list-of-tuples-with-index\n",
    "    tuple_list = [tuple(x) for x in ul.to_records(index=False)]\n",
    "    university_towns = hdf.loc[tuple_list]\n",
    "    non_university_towns = hdf.loc[~hdf.index.isin(tuple_list)]\n",
    "    \n",
    "    # Step 4. Run ttest\n",
    "    answer = ttest_ind(university_towns['PriceRatio'], non_university_towns['PriceRatio'], nan_policy='omit') \n",
    "    # different=True if the t-test is True at a p<0.01\n",
    "    different = answer.pvalue < 0.01\n",
    "    # The variable p should be equal to the exact p value returned from scipy.stats.ttest_ind()\n",
    "    p = answer.pvalue\n",
    "    # The value for better should be either \"university town\" or \"non-university town\"\n",
    "    # depending on which has a lower mean price ratio\n",
    "    x = university_towns['PriceRatio'].mean()\n",
    "    y = non_university_towns['PriceRatio'].mean()\n",
    "    better = \"university town\" if x < y else \"non-university town\"\n",
    "    \n",
    "    return (different, p, better)"
   ]
  },
  {
   "cell_type": "code",
   "execution_count": null,
   "metadata": {
    "collapsed": true
   },
   "outputs": [],
   "source": []
  },
  {
   "cell_type": "code",
   "execution_count": null,
   "metadata": {
    "collapsed": true
   },
   "outputs": [],
   "source": []
  },
  {
   "cell_type": "code",
   "execution_count": null,
   "metadata": {
    "collapsed": true
   },
   "outputs": [],
   "source": []
  }
 ],
 "metadata": {
  "coursera": {
   "course_slug": "python-data-analysis",
   "graded_item_id": "Il9Fx",
   "launcher_item_id": "TeDW0",
   "part_id": "WGlun"
  },
  "kernelspec": {
   "display_name": "Python 3",
   "language": "python",
   "name": "python3"
  },
  "language_info": {
   "codemirror_mode": {
    "name": "ipython",
    "version": 3
   },
   "file_extension": ".py",
   "mimetype": "text/x-python",
   "name": "python",
   "nbconvert_exporter": "python",
   "pygments_lexer": "ipython3",
   "version": "3.5.2"
  }
 },
 "nbformat": 4,
 "nbformat_minor": 0
}
